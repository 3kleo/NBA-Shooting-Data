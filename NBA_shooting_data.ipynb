{
 "cells": [
  {
   "cell_type": "markdown",
   "id": "neither-ecuador",
   "metadata": {},
   "source": [
    "# NBA Shooting Data"
   ]
  },
  {
   "cell_type": "code",
   "execution_count": 19,
   "id": "mexican-constraint",
   "metadata": {},
   "outputs": [],
   "source": [
    "import pandas as pd \n",
    "import matplotlib.pyplot as plt\n",
    "import numpy as np\n",
    "import seaborn as sns\n",
    "pd.read_csv('nba_players_shooting.csv', index_col=0)\n",
    "plt.style.use('ggplot')"
   ]
  },
  {
   "cell_type": "markdown",
   "id": "essential-platform",
   "metadata": {
    "tags": []
   },
   "source": [
    "#### Data Dictionary\n",
    "\n",
    "|variable |class     |description                                                  |\n",
    "|:--------|:---------|:------------------------------------------------------------|\n",
    "|SHOOTER  |String    |Name of the player taking the shot                           |\n",
    "|X        |float     |Horizontal distance of the shot taken from the basket in ft  |\n",
    "|Y        |float     |Vertical distance of the shot taken from the basket in ft    |\n",
    "|RANGE    |String    |Radius range of the shot taken from the basket in ft         |\n",
    "|DEFENDER |String    |Name of the player defending the shot                        |\n",
    "|SCORE    |String    |'MADE' if shot is scored, else 'MISSED'                      |"
   ]
  },
  {
   "cell_type": "markdown",
   "id": "46cee9ea",
   "metadata": {},
   "source": [
    "## Basketball terms\n",
    "### In this study, we will use a lot of basketball terms. Lets go over a few of them:\n",
    "#### Shooting efficiency: percentage of made shots out of all taken shots (made shots / shots taken)\n",
    "#### Opposition efficiency: efficiency of shots of the defensive assignment of analysed player"
   ]
  },
  {
   "cell_type": "code",
   "execution_count": 2,
   "id": "045aaa78-0058-422f-82b7-c59f8827f952",
   "metadata": {},
   "outputs": [],
   "source": [
    "df = pd.read_csv('nba_players_shooting.csv', index_col=0)\n",
    "df['RANGE'] = df.RANGE.astype(\"category\")\n",
    "df['RANGE'] = df.RANGE.cat.reorder_categories(['(0, 4)', '(5, 9)', '(10, 14)', '(15, 19)', '(20, 24)', '(25, 29)'], ordered=True)"
   ]
  },
  {
   "cell_type": "code",
   "execution_count": 18,
   "id": "e9e340af",
   "metadata": {},
   "outputs": [
    {
     "data": {
      "text/plain": [
       "Trae Young           329\n",
       "Chris Paul           216\n",
       "Seth Curry           147\n",
       "Russell Westbrook     84\n",
       "Name: SHOOTER, dtype: int64"
      ]
     },
     "execution_count": 18,
     "metadata": {},
     "output_type": "execute_result"
    }
   ],
   "source": [
    "df['SHOOTER'].value_counts()"
   ]
  },
  {
   "cell_type": "markdown",
   "id": "e0dbf899-bffc-44ca-a17b-e1cc4f9d5bd6",
   "metadata": {},
   "source": [
    "# Shooting efficiency\n",
    "### What is the overall efficiency for these players?"
   ]
  },
  {
   "cell_type": "code",
   "execution_count": 21,
   "id": "9320c983-b8c1-4542-adf1-ac3568eee740",
   "metadata": {},
   "outputs": [
    {
     "data": {
      "text/html": [
       "<div>\n",
       "<style scoped>\n",
       "    .dataframe tbody tr th:only-of-type {\n",
       "        vertical-align: middle;\n",
       "    }\n",
       "\n",
       "    .dataframe tbody tr th {\n",
       "        vertical-align: top;\n",
       "    }\n",
       "\n",
       "    .dataframe thead th {\n",
       "        text-align: right;\n",
       "    }\n",
       "</style>\n",
       "<table border=\"1\" class=\"dataframe\">\n",
       "  <thead>\n",
       "    <tr style=\"text-align: right;\">\n",
       "      <th></th>\n",
       "      <th>SHOOTER</th>\n",
       "      <th>efficiency</th>\n",
       "    </tr>\n",
       "  </thead>\n",
       "  <tbody>\n",
       "    <tr>\n",
       "      <th>2</th>\n",
       "      <td>Seth Curry</td>\n",
       "      <td>57.82</td>\n",
       "    </tr>\n",
       "    <tr>\n",
       "      <th>0</th>\n",
       "      <td>Chris Paul</td>\n",
       "      <td>48.61</td>\n",
       "    </tr>\n",
       "    <tr>\n",
       "      <th>3</th>\n",
       "      <td>Trae Young</td>\n",
       "      <td>43.16</td>\n",
       "    </tr>\n",
       "    <tr>\n",
       "      <th>1</th>\n",
       "      <td>Russell Westbrook</td>\n",
       "      <td>33.33</td>\n",
       "    </tr>\n",
       "  </tbody>\n",
       "</table>\n",
       "</div>"
      ],
      "text/plain": [
       "             SHOOTER  efficiency\n",
       "2         Seth Curry       57.82\n",
       "0         Chris Paul       48.61\n",
       "3         Trae Young       43.16\n",
       "1  Russell Westbrook       33.33"
      ]
     },
     "execution_count": 21,
     "metadata": {},
     "output_type": "execute_result"
    }
   ],
   "source": [
    "misses = df[df['SCORE'] == 'MISSED'].sort_values('SHOOTER').groupby('SHOOTER')['X'].count()\n",
    "makes = df[df['SCORE'] == 'MADE'].sort_values('SHOOTER').groupby('SHOOTER')['X'].count()\n",
    "df_pct = pd.merge(makes, misses, left_index=True, right_index=True, suffixes=('_make', '_miss'))\n",
    "df_pct.rename(columns={\"X_miss\": \"missed_shots\", \"X_make\": \"made_shots\"}, inplace=True)\n",
    "df_pct.reset_index(inplace=True)\n",
    "df_pct['total_shots'] = df_pct.sum(axis=1)\n",
    "df_pct['efficiency'] = round(df_pct['made_shots'] / df_pct['total_shots'] * 100, 2)\n",
    "df_pct[['SHOOTER', 'efficiency']].sort_values('efficiency', ascending=False)"
   ]
  },
  {
   "cell_type": "code",
   "execution_count": 22,
   "id": "4e64538c-e69d-4836-b62c-b1b6f873c112",
   "metadata": {},
   "outputs": [
    {
     "data": {
      "image/png": "[encoded data removed]",
      "text/plain": [
       "<Figure size 432x288 with 1 Axes>"
      ]
     },
     "metadata": {},
     "output_type": "display_data"
    }
   ],
   "source": [
    "plt.scatter(df_pct['total_shots'], \n",
    "            df_pct['efficiency'],\n",
    "               )\n",
    "for i in range(df_pct.shape[0]):\n",
    "    if df_pct['SHOOTER'][i] != 'Trae Young':\n",
    "        plt.text(x=df_pct['total_shots'][i]+6,\n",
    "              y=df_pct['efficiency'][i]-0.5,\n",
    "              s=df_pct['SHOOTER'][i],\n",
    "              fontdict=dict(color='red',size=13))\n",
    "    else:\n",
    "        plt.text(x=df_pct['total_shots'][i]-50,\n",
    "              y=df_pct['efficiency'][i]-2,\n",
    "              s=df_pct['SHOOTER'][i],\n",
    "              fontdict=dict(color='red',size=13))\n",
    "plt.title('Efficiency x Total Shots')\n",
    "plt.xlabel('Shots taken')\n",
    "plt.ylabel('Field Goal Percentage(%)')\n",
    "plt.show()"
   ]
  },
  {
   "cell_type": "markdown",
   "id": "16f0610f-3ccb-4c4f-a390-a6d8b379cb6a",
   "metadata": {},
   "source": [
    "### By total shooting efficiency, Seth Curry leads all players with a good margin. However, what is the efficiency for these players for each different range presented in the dataset?"
   ]
  },
  {
   "cell_type": "code",
   "execution_count": 23,
   "id": "750de8ca-1d21-4411-91c0-25656567dd6e",
   "metadata": {},
   "outputs": [
    {
     "data": {
      "text/html": [
       "<div>\n",
       "<style scoped>\n",
       "    .dataframe tbody tr th:only-of-type {\n",
       "        vertical-align: middle;\n",
       "    }\n",
       "\n",
       "    .dataframe tbody tr th {\n",
       "        vertical-align: top;\n",
       "    }\n",
       "\n",
       "    .dataframe thead th {\n",
       "        text-align: right;\n",
       "    }\n",
       "</style>\n",
       "<table border=\"1\" class=\"dataframe\">\n",
       "  <thead>\n",
       "    <tr style=\"text-align: right;\">\n",
       "      <th></th>\n",
       "      <th>SHOOTER</th>\n",
       "      <th>RANGE</th>\n",
       "      <th>efficiency</th>\n",
       "    </tr>\n",
       "  </thead>\n",
       "  <tbody>\n",
       "    <tr>\n",
       "      <th>0</th>\n",
       "      <td>Chris Paul</td>\n",
       "      <td>(0, 4)</td>\n",
       "      <td>75.00</td>\n",
       "    </tr>\n",
       "    <tr>\n",
       "      <th>12</th>\n",
       "      <td>Seth Curry</td>\n",
       "      <td>(0, 4)</td>\n",
       "      <td>68.75</td>\n",
       "    </tr>\n",
       "    <tr>\n",
       "      <th>18</th>\n",
       "      <td>Trae Young</td>\n",
       "      <td>(0, 4)</td>\n",
       "      <td>52.38</td>\n",
       "    </tr>\n",
       "    <tr>\n",
       "      <th>6</th>\n",
       "      <td>Russell Westbrook</td>\n",
       "      <td>(0, 4)</td>\n",
       "      <td>40.00</td>\n",
       "    </tr>\n",
       "    <tr>\n",
       "      <th>13</th>\n",
       "      <td>Seth Curry</td>\n",
       "      <td>(5, 9)</td>\n",
       "      <td>66.67</td>\n",
       "    </tr>\n",
       "    <tr>\n",
       "      <th>1</th>\n",
       "      <td>Chris Paul</td>\n",
       "      <td>(5, 9)</td>\n",
       "      <td>59.09</td>\n",
       "    </tr>\n",
       "    <tr>\n",
       "      <th>19</th>\n",
       "      <td>Trae Young</td>\n",
       "      <td>(5, 9)</td>\n",
       "      <td>47.17</td>\n",
       "    </tr>\n",
       "    <tr>\n",
       "      <th>7</th>\n",
       "      <td>Russell Westbrook</td>\n",
       "      <td>(5, 9)</td>\n",
       "      <td>11.11</td>\n",
       "    </tr>\n",
       "    <tr>\n",
       "      <th>8</th>\n",
       "      <td>Russell Westbrook</td>\n",
       "      <td>(10, 14)</td>\n",
       "      <td>66.67</td>\n",
       "    </tr>\n",
       "    <tr>\n",
       "      <th>20</th>\n",
       "      <td>Trae Young</td>\n",
       "      <td>(10, 14)</td>\n",
       "      <td>49.15</td>\n",
       "    </tr>\n",
       "    <tr>\n",
       "      <th>2</th>\n",
       "      <td>Chris Paul</td>\n",
       "      <td>(10, 14)</td>\n",
       "      <td>45.90</td>\n",
       "    </tr>\n",
       "    <tr>\n",
       "      <th>14</th>\n",
       "      <td>Seth Curry</td>\n",
       "      <td>(10, 14)</td>\n",
       "      <td>41.67</td>\n",
       "    </tr>\n",
       "    <tr>\n",
       "      <th>15</th>\n",
       "      <td>Seth Curry</td>\n",
       "      <td>(15, 19)</td>\n",
       "      <td>72.22</td>\n",
       "    </tr>\n",
       "    <tr>\n",
       "      <th>3</th>\n",
       "      <td>Chris Paul</td>\n",
       "      <td>(15, 19)</td>\n",
       "      <td>44.78</td>\n",
       "    </tr>\n",
       "    <tr>\n",
       "      <th>21</th>\n",
       "      <td>Trae Young</td>\n",
       "      <td>(15, 19)</td>\n",
       "      <td>41.67</td>\n",
       "    </tr>\n",
       "    <tr>\n",
       "      <th>9</th>\n",
       "      <td>Russell Westbrook</td>\n",
       "      <td>(15, 19)</td>\n",
       "      <td>34.78</td>\n",
       "    </tr>\n",
       "    <tr>\n",
       "      <th>16</th>\n",
       "      <td>Seth Curry</td>\n",
       "      <td>(20, 24)</td>\n",
       "      <td>66.67</td>\n",
       "    </tr>\n",
       "    <tr>\n",
       "      <th>22</th>\n",
       "      <td>Trae Young</td>\n",
       "      <td>(20, 24)</td>\n",
       "      <td>45.16</td>\n",
       "    </tr>\n",
       "    <tr>\n",
       "      <th>4</th>\n",
       "      <td>Chris Paul</td>\n",
       "      <td>(20, 24)</td>\n",
       "      <td>37.50</td>\n",
       "    </tr>\n",
       "    <tr>\n",
       "      <th>10</th>\n",
       "      <td>Russell Westbrook</td>\n",
       "      <td>(20, 24)</td>\n",
       "      <td>14.29</td>\n",
       "    </tr>\n",
       "    <tr>\n",
       "      <th>17</th>\n",
       "      <td>Seth Curry</td>\n",
       "      <td>(25, 29)</td>\n",
       "      <td>47.46</td>\n",
       "    </tr>\n",
       "    <tr>\n",
       "      <th>5</th>\n",
       "      <td>Chris Paul</td>\n",
       "      <td>(25, 29)</td>\n",
       "      <td>47.06</td>\n",
       "    </tr>\n",
       "    <tr>\n",
       "      <th>23</th>\n",
       "      <td>Trae Young</td>\n",
       "      <td>(25, 29)</td>\n",
       "      <td>31.31</td>\n",
       "    </tr>\n",
       "    <tr>\n",
       "      <th>11</th>\n",
       "      <td>Russell Westbrook</td>\n",
       "      <td>(25, 29)</td>\n",
       "      <td>28.57</td>\n",
       "    </tr>\n",
       "  </tbody>\n",
       "</table>\n",
       "</div>"
      ],
      "text/plain": [
       "              SHOOTER     RANGE  efficiency\n",
       "0          Chris Paul    (0, 4)       75.00\n",
       "12         Seth Curry    (0, 4)       68.75\n",
       "18         Trae Young    (0, 4)       52.38\n",
       "6   Russell Westbrook    (0, 4)       40.00\n",
       "13         Seth Curry    (5, 9)       66.67\n",
       "1          Chris Paul    (5, 9)       59.09\n",
       "19         Trae Young    (5, 9)       47.17\n",
       "7   Russell Westbrook    (5, 9)       11.11\n",
       "8   Russell Westbrook  (10, 14)       66.67\n",
       "20         Trae Young  (10, 14)       49.15\n",
       "2          Chris Paul  (10, 14)       45.90\n",
       "14         Seth Curry  (10, 14)       41.67\n",
       "15         Seth Curry  (15, 19)       72.22\n",
       "3          Chris Paul  (15, 19)       44.78\n",
       "21         Trae Young  (15, 19)       41.67\n",
       "9   Russell Westbrook  (15, 19)       34.78\n",
       "16         Seth Curry  (20, 24)       66.67\n",
       "22         Trae Young  (20, 24)       45.16\n",
       "4          Chris Paul  (20, 24)       37.50\n",
       "10  Russell Westbrook  (20, 24)       14.29\n",
       "17         Seth Curry  (25, 29)       47.46\n",
       "5          Chris Paul  (25, 29)       47.06\n",
       "23         Trae Young  (25, 29)       31.31\n",
       "11  Russell Westbrook  (25, 29)       28.57"
      ]
     },
     "execution_count": 23,
     "metadata": {},
     "output_type": "execute_result"
    }
   ],
   "source": [
    "misses = df[df['SCORE'] == 'MISSED'].sort_values(['SHOOTER', 'RANGE']).groupby(['SHOOTER', 'RANGE'])['X'].count()\n",
    "makes = df[df['SCORE'] == 'MADE'].sort_values(['SHOOTER', 'RANGE']).groupby(['SHOOTER', 'RANGE'])['X'].count()\n",
    "df_pct_range = pd.merge(makes, misses, left_index=True, right_index=True, suffixes=('_make', '_miss'))\n",
    "df_pct_range.rename(columns={\"X_miss\": \"missed_shots\", \"X_make\": \"made_shots\"}, inplace=True)\n",
    "df_pct_range.reset_index(inplace=True)\n",
    "df_pct_range['total_shots'] = df_pct_range.sum(axis=1)\n",
    "df_pct_range['efficiency'] = round(df_pct_range['made_shots'] / df_pct_range['total_shots'] * 100, 2)\n",
    "df_pct_range.sort_values(['RANGE', 'efficiency'], ascending=[True, False])[['SHOOTER', 'RANGE', 'efficiency']]"
   ]
  },
  {
   "cell_type": "code",
   "execution_count": 6,
   "id": "02b447d3",
   "metadata": {},
   "outputs": [
    {
     "data": {
      "text/html": [
       "<div>\n",
       "<style scoped>\n",
       "    .dataframe tbody tr th:only-of-type {\n",
       "        vertical-align: middle;\n",
       "    }\n",
       "\n",
       "    .dataframe tbody tr th {\n",
       "        vertical-align: top;\n",
       "    }\n",
       "\n",
       "    .dataframe thead th {\n",
       "        text-align: right;\n",
       "    }\n",
       "</style>\n",
       "<table border=\"1\" class=\"dataframe\">\n",
       "  <thead>\n",
       "    <tr style=\"text-align: right;\">\n",
       "      <th></th>\n",
       "      <th>SHOOTER</th>\n",
       "      <th>RANGE</th>\n",
       "      <th>efficiency</th>\n",
       "    </tr>\n",
       "  </thead>\n",
       "  <tbody>\n",
       "    <tr>\n",
       "      <th>0</th>\n",
       "      <td>Chris Paul</td>\n",
       "      <td>(0, 4)</td>\n",
       "      <td>75.00</td>\n",
       "    </tr>\n",
       "    <tr>\n",
       "      <th>13</th>\n",
       "      <td>Seth Curry</td>\n",
       "      <td>(5, 9)</td>\n",
       "      <td>66.67</td>\n",
       "    </tr>\n",
       "    <tr>\n",
       "      <th>8</th>\n",
       "      <td>Russell Westbrook</td>\n",
       "      <td>(10, 14)</td>\n",
       "      <td>66.67</td>\n",
       "    </tr>\n",
       "    <tr>\n",
       "      <th>15</th>\n",
       "      <td>Seth Curry</td>\n",
       "      <td>(15, 19)</td>\n",
       "      <td>72.22</td>\n",
       "    </tr>\n",
       "    <tr>\n",
       "      <th>16</th>\n",
       "      <td>Seth Curry</td>\n",
       "      <td>(20, 24)</td>\n",
       "      <td>66.67</td>\n",
       "    </tr>\n",
       "    <tr>\n",
       "      <th>17</th>\n",
       "      <td>Seth Curry</td>\n",
       "      <td>(25, 29)</td>\n",
       "      <td>47.46</td>\n",
       "    </tr>\n",
       "  </tbody>\n",
       "</table>\n",
       "</div>"
      ],
      "text/plain": [
       "              SHOOTER     RANGE  efficiency\n",
       "0          Chris Paul    (0, 4)       75.00\n",
       "13         Seth Curry    (5, 9)       66.67\n",
       "8   Russell Westbrook  (10, 14)       66.67\n",
       "15         Seth Curry  (15, 19)       72.22\n",
       "16         Seth Curry  (20, 24)       66.67\n",
       "17         Seth Curry  (25, 29)       47.46"
      ]
     },
     "execution_count": 6,
     "metadata": {},
     "output_type": "execute_result"
    }
   ],
   "source": [
    "df_pct_range[df_pct_range.index.isin(df_pct_range.groupby('RANGE')['efficiency'].idxmax())][['SHOOTER', 'RANGE', 'efficiency']].sort_values('RANGE')"
   ]
  },
  {
   "cell_type": "markdown",
   "id": "a621bfb6",
   "metadata": {},
   "source": [
    "### As we can see, Seth Curry is also dominating the efficiency by zone with excellent FG% in almost all ranges. Even for the ranges where he is not the leader, he still has good efficiency.\n",
    "\n",
    "### Lets see now what are the \"hot zones\" for each of the shooters!"
   ]
  },
  {
   "cell_type": "code",
   "execution_count": 7,
   "id": "5dd7991c",
   "metadata": {},
   "outputs": [
    {
     "data": {
      "text/html": [
       "<div>\n",
       "<style scoped>\n",
       "    .dataframe tbody tr th:only-of-type {\n",
       "        vertical-align: middle;\n",
       "    }\n",
       "\n",
       "    .dataframe tbody tr th {\n",
       "        vertical-align: top;\n",
       "    }\n",
       "\n",
       "    .dataframe thead th {\n",
       "        text-align: right;\n",
       "    }\n",
       "</style>\n",
       "<table border=\"1\" class=\"dataframe\">\n",
       "  <thead>\n",
       "    <tr style=\"text-align: right;\">\n",
       "      <th></th>\n",
       "      <th>SHOOTER</th>\n",
       "      <th>RANGE</th>\n",
       "      <th>efficiency</th>\n",
       "    </tr>\n",
       "  </thead>\n",
       "  <tbody>\n",
       "    <tr>\n",
       "      <th>0</th>\n",
       "      <td>Chris Paul</td>\n",
       "      <td>(0, 4)</td>\n",
       "      <td>75.00</td>\n",
       "    </tr>\n",
       "    <tr>\n",
       "      <th>18</th>\n",
       "      <td>Trae Young</td>\n",
       "      <td>(0, 4)</td>\n",
       "      <td>52.38</td>\n",
       "    </tr>\n",
       "    <tr>\n",
       "      <th>8</th>\n",
       "      <td>Russell Westbrook</td>\n",
       "      <td>(10, 14)</td>\n",
       "      <td>66.67</td>\n",
       "    </tr>\n",
       "    <tr>\n",
       "      <th>15</th>\n",
       "      <td>Seth Curry</td>\n",
       "      <td>(15, 19)</td>\n",
       "      <td>72.22</td>\n",
       "    </tr>\n",
       "  </tbody>\n",
       "</table>\n",
       "</div>"
      ],
      "text/plain": [
       "              SHOOTER     RANGE  efficiency\n",
       "0          Chris Paul    (0, 4)       75.00\n",
       "18         Trae Young    (0, 4)       52.38\n",
       "8   Russell Westbrook  (10, 14)       66.67\n",
       "15         Seth Curry  (15, 19)       72.22"
      ]
     },
     "execution_count": 7,
     "metadata": {},
     "output_type": "execute_result"
    }
   ],
   "source": [
    "df_pct_range[df_pct_range.index.isin(df_pct_range.groupby('SHOOTER')['efficiency'].idxmax())][['SHOOTER', 'RANGE', 'efficiency']].sort_values('RANGE')"
   ]
  },
  {
   "cell_type": "markdown",
   "id": "05a9085d",
   "metadata": {},
   "source": [
    "### Chris Paul and Trae Young have their best efficiency closer to the rim, while Westbrook and Seth are both shooting better from the midrange"
   ]
  },
  {
   "cell_type": "markdown",
   "id": "a813ae94-a736-4dbd-ba56-3f03d6b5a7e7",
   "metadata": {},
   "source": [
    "# Defensive impact\n",
    "### Now lets look at the other side of the ball: defense. Which player forced the most field goal misses?"
   ]
  },
  {
   "cell_type": "code",
   "execution_count": 8,
   "id": "73ada059-b0c7-4c6a-9634-de3efb27d1aa",
   "metadata": {},
   "outputs": [
    {
     "data": {
      "text/html": [
       "<div>\n",
       "<style scoped>\n",
       "    .dataframe tbody tr th:only-of-type {\n",
       "        vertical-align: middle;\n",
       "    }\n",
       "\n",
       "    .dataframe tbody tr th {\n",
       "        vertical-align: top;\n",
       "    }\n",
       "\n",
       "    .dataframe thead th {\n",
       "        text-align: right;\n",
       "    }\n",
       "</style>\n",
       "<table border=\"1\" class=\"dataframe\">\n",
       "  <thead>\n",
       "    <tr style=\"text-align: right;\">\n",
       "      <th></th>\n",
       "      <th>DEFENDER</th>\n",
       "      <th>missed_shots_forced</th>\n",
       "    </tr>\n",
       "  </thead>\n",
       "  <tbody>\n",
       "    <tr>\n",
       "      <th>1</th>\n",
       "      <td>Russell Westbrook</td>\n",
       "      <td>172</td>\n",
       "    </tr>\n",
       "    <tr>\n",
       "      <th>2</th>\n",
       "      <td>Seth Curry</td>\n",
       "      <td>106</td>\n",
       "    </tr>\n",
       "    <tr>\n",
       "      <th>0</th>\n",
       "      <td>Chris Paul</td>\n",
       "      <td>96</td>\n",
       "    </tr>\n",
       "    <tr>\n",
       "      <th>3</th>\n",
       "      <td>Trae Young</td>\n",
       "      <td>42</td>\n",
       "    </tr>\n",
       "  </tbody>\n",
       "</table>\n",
       "</div>"
      ],
      "text/plain": [
       "            DEFENDER  missed_shots_forced\n",
       "1  Russell Westbrook                  172\n",
       "2         Seth Curry                  106\n",
       "0         Chris Paul                   96\n",
       "3         Trae Young                   42"
      ]
     },
     "execution_count": 8,
     "metadata": {},
     "output_type": "execute_result"
    }
   ],
   "source": [
    "df[df['SCORE'] == 'MISSED'].groupby(['DEFENDER'])['X'].count().reset_index().rename(columns={\"X\": \"missed_shots_forced\"}).sort_values('missed_shots_forced', ascending=False)"
   ]
  },
  {
   "cell_type": "markdown",
   "id": "888b5fba",
   "metadata": {},
   "source": [
    "### Russell Westbrook force the most missed shots while being the main defender.\n",
    "### However, he could have just had more defensive possessions. So lets analyze the data and calculate which player allowed the lowest field goal percentage?"
   ]
  },
  {
   "cell_type": "code",
   "execution_count": 24,
   "id": "0dce3757",
   "metadata": {},
   "outputs": [
    {
     "data": {
      "text/html": [
       "<div>\n",
       "<style scoped>\n",
       "    .dataframe tbody tr th:only-of-type {\n",
       "        vertical-align: middle;\n",
       "    }\n",
       "\n",
       "    .dataframe tbody tr th {\n",
       "        vertical-align: top;\n",
       "    }\n",
       "\n",
       "    .dataframe thead th {\n",
       "        text-align: right;\n",
       "    }\n",
       "</style>\n",
       "<table border=\"1\" class=\"dataframe\">\n",
       "  <thead>\n",
       "    <tr style=\"text-align: right;\">\n",
       "      <th></th>\n",
       "      <th>DEFENDER</th>\n",
       "      <th>opp_efficiency</th>\n",
       "    </tr>\n",
       "  </thead>\n",
       "  <tbody>\n",
       "    <tr>\n",
       "      <th>1</th>\n",
       "      <td>Russell Westbrook</td>\n",
       "      <td>25.86</td>\n",
       "    </tr>\n",
       "    <tr>\n",
       "      <th>2</th>\n",
       "      <td>Seth Curry</td>\n",
       "      <td>44.50</td>\n",
       "    </tr>\n",
       "    <tr>\n",
       "      <th>0</th>\n",
       "      <td>Chris Paul</td>\n",
       "      <td>51.27</td>\n",
       "    </tr>\n",
       "    <tr>\n",
       "      <th>3</th>\n",
       "      <td>Trae Young</td>\n",
       "      <td>73.08</td>\n",
       "    </tr>\n",
       "  </tbody>\n",
       "</table>\n",
       "</div>"
      ],
      "text/plain": [
       "            DEFENDER  opp_efficiency\n",
       "1  Russell Westbrook           25.86\n",
       "2         Seth Curry           44.50\n",
       "0         Chris Paul           51.27\n",
       "3         Trae Young           73.08"
      ]
     },
     "execution_count": 24,
     "metadata": {},
     "output_type": "execute_result"
    }
   ],
   "source": [
    "misses = df[df['SCORE'] == 'MISSED'].sort_values('DEFENDER').groupby('DEFENDER')['X'].count()\n",
    "makes = df[df['SCORE'] == 'MADE'].sort_values('DEFENDER').groupby('DEFENDER')['X'].count()\n",
    "df_pct = pd.merge(makes, misses, left_index=True, right_index=True, suffixes=('_make', '_miss'))\n",
    "df_pct.rename(columns={\"X_miss\": \"missed_shots\", \"X_make\": \"made_shots\"}, inplace=True)\n",
    "df_pct.reset_index(inplace=True)\n",
    "df_pct['total_shots'] = df_pct.sum(axis=1)\n",
    "df_pct['opp_efficiency'] = round(df_pct['made_shots'] / df_pct['total_shots'] * 100, 2)\n",
    "df_pct[['DEFENDER', 'opp_efficiency']].sort_values('opp_efficiency')"
   ]
  },
  {
   "cell_type": "markdown",
   "id": "375c8029",
   "metadata": {},
   "source": [
    "### As we can see, the order is the same for both stats. So our initial assumption was correct: Westbrook held his matchup to the lowest field goal percentage of all 4 players as defenders."
   ]
  },
  {
   "cell_type": "markdown",
   "id": "708eba1a",
   "metadata": {},
   "source": [
    "### Now, lets look at each different range and see who are the best and worst defenders."
   ]
  },
  {
   "cell_type": "code",
   "execution_count": 25,
   "id": "892280ee",
   "metadata": {},
   "outputs": [
    {
     "data": {
      "text/html": [
       "<div>\n",
       "<style scoped>\n",
       "    .dataframe tbody tr th:only-of-type {\n",
       "        vertical-align: middle;\n",
       "    }\n",
       "\n",
       "    .dataframe tbody tr th {\n",
       "        vertical-align: top;\n",
       "    }\n",
       "\n",
       "    .dataframe thead th {\n",
       "        text-align: right;\n",
       "    }\n",
       "</style>\n",
       "<table border=\"1\" class=\"dataframe\">\n",
       "  <thead>\n",
       "    <tr style=\"text-align: right;\">\n",
       "      <th></th>\n",
       "      <th>DEFENDER</th>\n",
       "      <th>RANGE</th>\n",
       "      <th>opp_efficiency</th>\n",
       "    </tr>\n",
       "  </thead>\n",
       "  <tbody>\n",
       "    <tr>\n",
       "      <th>6</th>\n",
       "      <td>Russell Westbrook</td>\n",
       "      <td>(0, 4)</td>\n",
       "      <td>36.67</td>\n",
       "    </tr>\n",
       "    <tr>\n",
       "      <th>7</th>\n",
       "      <td>Russell Westbrook</td>\n",
       "      <td>(5, 9)</td>\n",
       "      <td>31.82</td>\n",
       "    </tr>\n",
       "    <tr>\n",
       "      <th>8</th>\n",
       "      <td>Russell Westbrook</td>\n",
       "      <td>(10, 14)</td>\n",
       "      <td>18.42</td>\n",
       "    </tr>\n",
       "    <tr>\n",
       "      <th>9</th>\n",
       "      <td>Russell Westbrook</td>\n",
       "      <td>(15, 19)</td>\n",
       "      <td>23.40</td>\n",
       "    </tr>\n",
       "    <tr>\n",
       "      <th>10</th>\n",
       "      <td>Russell Westbrook</td>\n",
       "      <td>(20, 24)</td>\n",
       "      <td>28.57</td>\n",
       "    </tr>\n",
       "    <tr>\n",
       "      <th>11</th>\n",
       "      <td>Russell Westbrook</td>\n",
       "      <td>(25, 29)</td>\n",
       "      <td>24.32</td>\n",
       "    </tr>\n",
       "  </tbody>\n",
       "</table>\n",
       "</div>"
      ],
      "text/plain": [
       "             DEFENDER     RANGE  opp_efficiency\n",
       "6   Russell Westbrook    (0, 4)           36.67\n",
       "7   Russell Westbrook    (5, 9)           31.82\n",
       "8   Russell Westbrook  (10, 14)           18.42\n",
       "9   Russell Westbrook  (15, 19)           23.40\n",
       "10  Russell Westbrook  (20, 24)           28.57\n",
       "11  Russell Westbrook  (25, 29)           24.32"
      ]
     },
     "execution_count": 25,
     "metadata": {},
     "output_type": "execute_result"
    }
   ],
   "source": [
    "# lowest opposing field goal percentage\n",
    "df[df['SCORE'] == 'MADE'].sort_values(['DEFENDER', 'RANGE']).groupby(['DEFENDER', 'RANGE'])['X'].count()\n",
    "misses = df[df['SCORE'] == 'MISSED'].sort_values(['DEFENDER', 'RANGE']).groupby(['DEFENDER', 'RANGE'])['X'].count()\n",
    "makes = df[df['SCORE'] == 'MADE'].sort_values(['DEFENDER', 'RANGE']).groupby(['DEFENDER', 'RANGE'])['X'].count()\n",
    "df_pct_range = pd.merge(makes, misses, left_index=True, right_index=True, suffixes=('_make', '_miss'))\n",
    "df_pct_range.rename(columns={\"X_miss\": \"missed_shots\", \"X_make\": \"made_shots\"}, inplace=True)\n",
    "df_pct_range.reset_index(inplace=True)\n",
    "df_pct_range['total_shots'] = df_pct_range.sum(axis=1)\n",
    "df_pct_range['opp_efficiency'] = round(df_pct_range['made_shots'] / df_pct_range['total_shots'] * 100, 2)\n",
    "df_pct_range.sort_values(['RANGE', 'opp_efficiency'])[['DEFENDER', 'RANGE', 'opp_efficiency']]\n",
    "df_pct_range[df_pct_range.index.isin(df_pct_range.groupby('RANGE')['opp_efficiency'].idxmin())][['DEFENDER', 'RANGE', 'opp_efficiency']].sort_values('RANGE')"
   ]
  },
  {
   "cell_type": "code",
   "execution_count": 12,
   "id": "4c5e27b3",
   "metadata": {
    "scrolled": true
   },
   "outputs": [
    {
     "data": {
      "text/html": [
       "<div>\n",
       "<style scoped>\n",
       "    .dataframe tbody tr th:only-of-type {\n",
       "        vertical-align: middle;\n",
       "    }\n",
       "\n",
       "    .dataframe tbody tr th {\n",
       "        vertical-align: top;\n",
       "    }\n",
       "\n",
       "    .dataframe thead th {\n",
       "        text-align: right;\n",
       "    }\n",
       "</style>\n",
       "<table border=\"1\" class=\"dataframe\">\n",
       "  <thead>\n",
       "    <tr style=\"text-align: right;\">\n",
       "      <th></th>\n",
       "      <th>DEFENDER</th>\n",
       "      <th>RANGE</th>\n",
       "      <th>opp_efficiency</th>\n",
       "    </tr>\n",
       "  </thead>\n",
       "  <tbody>\n",
       "    <tr>\n",
       "      <th>18</th>\n",
       "      <td>Trae Young</td>\n",
       "      <td>(0, 4)</td>\n",
       "      <td>69.57</td>\n",
       "    </tr>\n",
       "    <tr>\n",
       "      <th>19</th>\n",
       "      <td>Trae Young</td>\n",
       "      <td>(5, 9)</td>\n",
       "      <td>61.90</td>\n",
       "    </tr>\n",
       "    <tr>\n",
       "      <th>20</th>\n",
       "      <td>Trae Young</td>\n",
       "      <td>(10, 14)</td>\n",
       "      <td>75.00</td>\n",
       "    </tr>\n",
       "    <tr>\n",
       "      <th>21</th>\n",
       "      <td>Trae Young</td>\n",
       "      <td>(15, 19)</td>\n",
       "      <td>67.57</td>\n",
       "    </tr>\n",
       "    <tr>\n",
       "      <th>22</th>\n",
       "      <td>Trae Young</td>\n",
       "      <td>(20, 24)</td>\n",
       "      <td>93.33</td>\n",
       "    </tr>\n",
       "    <tr>\n",
       "      <th>23</th>\n",
       "      <td>Trae Young</td>\n",
       "      <td>(25, 29)</td>\n",
       "      <td>78.57</td>\n",
       "    </tr>\n",
       "  </tbody>\n",
       "</table>\n",
       "</div>"
      ],
      "text/plain": [
       "      DEFENDER     RANGE  opp_efficiency\n",
       "18  Trae Young    (0, 4)           69.57\n",
       "19  Trae Young    (5, 9)           61.90\n",
       "20  Trae Young  (10, 14)           75.00\n",
       "21  Trae Young  (15, 19)           67.57\n",
       "22  Trae Young  (20, 24)           93.33\n",
       "23  Trae Young  (25, 29)           78.57"
      ]
     },
     "execution_count": 12,
     "metadata": {},
     "output_type": "execute_result"
    }
   ],
   "source": [
    "# highest opposing field goal percentage\n",
    "df_pct_range[df_pct_range.index.isin(df_pct_range.groupby('RANGE')['opp_efficiency'].idxmax())][['DEFENDER', 'RANGE', 'opp_efficiency']].sort_values('RANGE')"
   ]
  },
  {
   "cell_type": "markdown",
   "id": "0f8a5afa",
   "metadata": {},
   "source": [
    "### Clearly, the player you want defending the ball down the stretch of a game is Westbrook. And you want to avoid at all costs getting Trae Young defending the ball handler of the opposing team.\n",
    "\n",
    "### Now lets look at direct matchups. Which player each one defended the best?"
   ]
  },
  {
   "cell_type": "code",
   "execution_count": 40,
   "id": "5e44b6fc",
   "metadata": {},
   "outputs": [
    {
     "data": {
      "text/html": [
       "<div>\n",
       "<style scoped>\n",
       "    .dataframe tbody tr th:only-of-type {\n",
       "        vertical-align: middle;\n",
       "    }\n",
       "\n",
       "    .dataframe tbody tr th {\n",
       "        vertical-align: top;\n",
       "    }\n",
       "\n",
       "    .dataframe thead th {\n",
       "        text-align: right;\n",
       "    }\n",
       "</style>\n",
       "<table border=\"1\" class=\"dataframe\">\n",
       "  <thead>\n",
       "    <tr style=\"text-align: right;\">\n",
       "      <th></th>\n",
       "      <th>DEFENDER</th>\n",
       "      <th>SHOOTER</th>\n",
       "      <th>opp_efficiency</th>\n",
       "    </tr>\n",
       "  </thead>\n",
       "  <tbody>\n",
       "    <tr>\n",
       "      <th>0</th>\n",
       "      <td>Chris Paul</td>\n",
       "      <td>Russell Westbrook</td>\n",
       "      <td>25.81</td>\n",
       "    </tr>\n",
       "    <tr>\n",
       "      <th>3</th>\n",
       "      <td>Russell Westbrook</td>\n",
       "      <td>Chris Paul</td>\n",
       "      <td>22.37</td>\n",
       "    </tr>\n",
       "    <tr>\n",
       "      <th>7</th>\n",
       "      <td>Seth Curry</td>\n",
       "      <td>Russell Westbrook</td>\n",
       "      <td>13.64</td>\n",
       "    </tr>\n",
       "    <tr>\n",
       "      <th>10</th>\n",
       "      <td>Trae Young</td>\n",
       "      <td>Russell Westbrook</td>\n",
       "      <td>54.84</td>\n",
       "    </tr>\n",
       "  </tbody>\n",
       "</table>\n",
       "</div>"
      ],
      "text/plain": [
       "             DEFENDER            SHOOTER  opp_efficiency\n",
       "0          Chris Paul  Russell Westbrook           25.81\n",
       "3   Russell Westbrook         Chris Paul           22.37\n",
       "7          Seth Curry  Russell Westbrook           13.64\n",
       "10         Trae Young  Russell Westbrook           54.84"
      ]
     },
     "execution_count": 40,
     "metadata": {},
     "output_type": "execute_result"
    }
   ],
   "source": [
    "df[df['SCORE'] == 'MADE'].sort_values(['DEFENDER', 'SHOOTER']).groupby(['DEFENDER', 'SHOOTER'])['X'].count()\n",
    "misses = df[df['SCORE'] == 'MISSED'].sort_values(['DEFENDER', 'SHOOTER']).groupby(['DEFENDER', 'SHOOTER'])['X'].count()\n",
    "makes = df[df['SCORE'] == 'MADE'].sort_values(['DEFENDER', 'SHOOTER']).groupby(['DEFENDER', 'SHOOTER'])['X'].count()\n",
    "df_pct_range = pd.merge(makes, misses, left_index=True, right_index=True, suffixes=('_make', '_miss'))\n",
    "df_pct_range.rename(columns={\"X_miss\": \"missed_shots\", \"X_make\": \"made_shots\"}, inplace=True)\n",
    "df_pct_range.reset_index(inplace=True)\n",
    "df_pct_range['total_shots'] = df_pct_range.sum(axis=1)\n",
    "df_pct_range['opp_efficiency'] = round(df_pct_range['made_shots'] / df_pct_range['total_shots'] * 100, 2)\n",
    "df_pct_range.sort_values(['DEFENDER', 'opp_efficiency'])[['DEFENDER', 'SHOOTER', 'opp_efficiency']]\n",
    "df_pct_range[df_pct_range.index.isin(df_pct_range.groupby('DEFENDER')['opp_efficiency'].idxmin())][['DEFENDER', 'SHOOTER', 'opp_efficiency']]"
   ]
  },
  {
   "cell_type": "code",
   "execution_count": 39,
   "id": "20515261",
   "metadata": {},
   "outputs": [
    {
     "data": {
      "text/html": [
       "<div>\n",
       "<style scoped>\n",
       "    .dataframe tbody tr th:only-of-type {\n",
       "        vertical-align: middle;\n",
       "    }\n",
       "\n",
       "    .dataframe tbody tr th {\n",
       "        vertical-align: top;\n",
       "    }\n",
       "\n",
       "    .dataframe thead th {\n",
       "        text-align: right;\n",
       "    }\n",
       "</style>\n",
       "<table border=\"1\" class=\"dataframe\">\n",
       "  <thead>\n",
       "    <tr style=\"text-align: right;\">\n",
       "      <th></th>\n",
       "      <th>DEFENDER</th>\n",
       "      <th>SHOOTER</th>\n",
       "      <th>opp_efficiency</th>\n",
       "    </tr>\n",
       "  </thead>\n",
       "  <tbody>\n",
       "    <tr>\n",
       "      <th>0</th>\n",
       "      <td>Chris Paul</td>\n",
       "      <td>Russell Westbrook</td>\n",
       "      <td>25.81</td>\n",
       "    </tr>\n",
       "    <tr>\n",
       "      <th>3</th>\n",
       "      <td>Russell Westbrook</td>\n",
       "      <td>Chris Paul</td>\n",
       "      <td>22.37</td>\n",
       "    </tr>\n",
       "    <tr>\n",
       "      <th>7</th>\n",
       "      <td>Seth Curry</td>\n",
       "      <td>Russell Westbrook</td>\n",
       "      <td>13.64</td>\n",
       "    </tr>\n",
       "    <tr>\n",
       "      <th>10</th>\n",
       "      <td>Trae Young</td>\n",
       "      <td>Russell Westbrook</td>\n",
       "      <td>54.84</td>\n",
       "    </tr>\n",
       "  </tbody>\n",
       "</table>\n",
       "</div>"
      ],
      "text/plain": [
       "             DEFENDER            SHOOTER  opp_efficiency\n",
       "0          Chris Paul  Russell Westbrook           25.81\n",
       "3   Russell Westbrook         Chris Paul           22.37\n",
       "7          Seth Curry  Russell Westbrook           13.64\n",
       "10         Trae Young  Russell Westbrook           54.84"
      ]
     },
     "execution_count": 39,
     "metadata": {},
     "output_type": "execute_result"
    }
   ],
   "source": [
    "df_pct_range[df_pct_range.index.isin(df_pct_range.groupby('DEFENDER')['opp_efficiency'].idxmin())][['DEFENDER', 'SHOOTER', 'opp_efficiency']]"
   ]
  },
  {
   "cell_type": "markdown",
   "id": "e95b4ece",
   "metadata": {},
   "source": [
    "### As we probably expected, Russell Westbrook is the worst matchup for the shooters in our dataset. His best defender is Chris Paul."
   ]
  },
  {
   "cell_type": "markdown",
   "id": "d4b46cb0",
   "metadata": {},
   "source": [
    "## Lets spice things up and try to plot a basketball court and visualize the shots."
   ]
  },
  {
   "cell_type": "code",
   "execution_count": null,
   "id": "fb226667",
   "metadata": {},
   "outputs": [],
   "source": []
  },
  {
   "cell_type": "markdown",
   "id": "f6c62ac0",
   "metadata": {},
   "source": []
  }
 ],
 "metadata": {
  "colab": {
   "name": "Welcome to DataCamp Workspaces.ipynb",
   "provenance": []
  },
  "kernelspec": {
   "display_name": "Python 3",
   "language": "python",
   "name": "python3"
  },
  "language_info": {
   "codemirror_mode": {
    "name": "ipython",
    "version": 3
   },
   "file_extension": ".py",
   "mimetype": "text/x-python",
   "name": "python",
   "nbconvert_exporter": "python",
   "pygments_lexer": "ipython3",
   "version": "3.8.8"
  }
 },
 "nbformat": 4,
 "nbformat_minor": 5
}
